{
 "cells": [
  {
   "cell_type": "code",
   "execution_count": 1,
   "id": "70ca7343",
   "metadata": {},
   "outputs": [],
   "source": [
    "import pandas as pd"
   ]
  },
  {
   "cell_type": "code",
   "execution_count": 40,
   "id": "0189b80f",
   "metadata": {},
   "outputs": [],
   "source": [
    "df = pd.read_csv('df_for_catboost.csv')"
   ]
  },
  {
   "cell_type": "code",
   "execution_count": 41,
   "id": "0f62c0d7",
   "metadata": {},
   "outputs": [],
   "source": [
    "X = df.drop(columns=['Unnamed: 0.1', 'Unnamed: 0', 'Номер животного', 'Ушная бирка животного', 'Пол', 'Результат отела', 'Дата рождения', 'Событие', 'Дата события', 'Примечание события', 'MOTHER_ID', 'DAYS_OF_TREATMENT'])\n",
    "y = df['DAYS_OF_TREATMENT']"
   ]
  },
  {
   "cell_type": "code",
   "execution_count": 42,
   "id": "e49e1247",
   "metadata": {},
   "outputs": [],
   "source": [
    "from catboost import CatBoostRegressor, Pool\n",
    "\n",
    "cb = CatBoostRegressor(n_estimators=1000,\n",
    "                       loss_function='RMSE',\n",
    "                       learning_rate=0.4,\n",
    "                       depth=3, task_type='CPU',\n",
    "                       random_state=1,\n",
    "                       verbose=False)\n",
    "\n",
    "from sklearn.model_selection import train_test_split\n",
    "X_train, X_test, y_train, y_test = train_test_split(X, y, test_size=0.20, \n",
    "                                                    random_state=1)\n",
    "pool_all = Pool(X, y,\n",
    "                  cat_features = ['PROTOCOL_STAGE_1', 'PROTOCOL_STAGE_2', 'PROTOCOL_STAGE_3', 'PROTOCOL_STAGE_4', 'PROTOCOL_STAGE_5', 'PROTOCOL_STAGE_6', 'PROTOCOL_STAGE_7', 'PROTOCOL_STAGE_8', 'PROTOCOL_STAGE_9', 'PROTOCOL_STAGE_10', 'PROTOCOL_STAGE_11'])\n",
    "\n",
    "pool_train = Pool(X_train, y_train,\n",
    "                  cat_features = ['PROTOCOL_STAGE_1', 'PROTOCOL_STAGE_2', 'PROTOCOL_STAGE_3', 'PROTOCOL_STAGE_4', 'PROTOCOL_STAGE_5', 'PROTOCOL_STAGE_6', 'PROTOCOL_STAGE_7', 'PROTOCOL_STAGE_8', 'PROTOCOL_STAGE_9', 'PROTOCOL_STAGE_10', 'PROTOCOL_STAGE_11'])\n",
    "\n",
    "pool_test = Pool(X_test, cat_features = ['PROTOCOL_STAGE_1', 'PROTOCOL_STAGE_2', 'PROTOCOL_STAGE_3', 'PROTOCOL_STAGE_4', 'PROTOCOL_STAGE_5', 'PROTOCOL_STAGE_6', 'PROTOCOL_STAGE_7', 'PROTOCOL_STAGE_8', 'PROTOCOL_STAGE_9', 'PROTOCOL_STAGE_10', 'PROTOCOL_STAGE_11'])\n",
    "\n"
   ]
  },
  {
   "cell_type": "code",
   "execution_count": 43,
   "id": "f3c48f6f",
   "metadata": {},
   "outputs": [
    {
     "name": "stdout",
     "output_type": "stream",
     "text": [
      "RMSE in y units: 14.661907138613712\n"
     ]
    }
   ],
   "source": [
    "cb.fit(pool_train)\n",
    "y_pred = cb.predict(pool_test)\n",
    "\n",
    "import numpy as np\n",
    "from sklearn.metrics import mean_squared_error as mse\n",
    "\n",
    "cb_rmse = np.sqrt(mse(y_test, y_pred))\n",
    "print(\"RMSE in y units:\", np.mean(cb_rmse))"
   ]
  },
  {
   "cell_type": "code",
   "execution_count": 6,
   "id": "58199f0b",
   "metadata": {
    "scrolled": false
   },
   "outputs": [
    {
     "data": {
      "text/plain": [
       "count    5257.000000\n",
       "mean       28.398706\n",
       "std        21.291279\n",
       "min         1.000000\n",
       "25%        13.000000\n",
       "50%        21.000000\n",
       "75%        37.000000\n",
       "max       100.000000\n",
       "Name: DAYS_OF_TREATMENT, dtype: float64"
      ]
     },
     "execution_count": 6,
     "metadata": {},
     "output_type": "execute_result"
    }
   ],
   "source": [
    "y.describe()"
   ]
  },
  {
   "cell_type": "code",
   "execution_count": 7,
   "id": "033134e5",
   "metadata": {
    "scrolled": true
   },
   "outputs": [
    {
     "data": {
      "text/plain": [
       "[(2.15429323113188, 'Номер лактации'),\n",
       " (0.9290790361018125, 'Легкость отела'),\n",
       " (6.973886872181285, 'Дней в сухостое предыдущей лактации'),\n",
       " (7.932982912121105, 'Дней стельности при событии'),\n",
       " (8.417826747049164, 'Номер группы животного'),\n",
       " (4.346862680212461, 'Предыдущий номер группы животного'),\n",
       " (8.042530706638848, 'Дни доения при событии'),\n",
       " (0.9971795235454309, 'IS_COW_ON_HORMONES'),\n",
       " (5.937736274758046, 'PROTOCOL_STAGE_1'),\n",
       " (2.303814536151736, 'PROTOCOL_STAGE_2'),\n",
       " (0.7353581987392237, 'PROTOCOL_STAGE_3'),\n",
       " (0.3358972279254993, 'PROTOCOL_STAGE_4'),\n",
       " (0.16166844994582677, 'PROTOCOL_STAGE_5'),\n",
       " (0.11890150328794685, 'PROTOCOL_STAGE_6'),\n",
       " (0.03402405767573168, 'PROTOCOL_STAGE_7'),\n",
       " (0.05062929937935773, 'PROTOCOL_STAGE_8'),\n",
       " (0.1260362976949672, 'PROTOCOL_STAGE_9'),\n",
       " (0.0, 'PROTOCOL_STAGE_10'),\n",
       " (3.330792371993496e-05, 'PROTOCOL_STAGE_11'),\n",
       " (1.418607696547133, 'UDDER_PARTS_AFFECTED_STAGE_1'),\n",
       " (0.0, 'UDDER_PARTS_CURED_STAGE_1'),\n",
       " (4.188040604853257, 'UDDER_PARTS_AFFECTED_STAGE_2'),\n",
       " (0.8759882971597143, 'UDDER_PARTS_CURED_STAGE_2'),\n",
       " (8.913876134723102, 'UDDER_PARTS_AFFECTED_STAGE_3'),\n",
       " (0.28068956114434307, 'UDDER_PARTS_CURED_STAGE_3'),\n",
       " (2.8289741987230532, 'UDDER_PARTS_AFFECTED_STAGE_4'),\n",
       " (0.2791184676131471, 'UDDER_PARTS_CURED_STAGE_4'),\n",
       " (1.7283837127717128, 'UDDER_PARTS_AFFECTED_STAGE_5'),\n",
       " (0.03213039053348824, 'UDDER_PARTS_CURED_STAGE_5'),\n",
       " (2.27496824765914, 'UDDER_PARTS_AFFECTED_STAGE_6'),\n",
       " (0.013791185207768702, 'UDDER_PARTS_CURED_STAGE_6'),\n",
       " (0.07984930788295487, 'UDDER_PARTS_AFFECTED_STAGE_7'),\n",
       " (0.0869878171907664, 'UDDER_PARTS_CURED_STAGE_7'),\n",
       " (0.1210961274381881, 'UDDER_PARTS_AFFECTED_STAGE_8'),\n",
       " (0.002707886464727155, 'UDDER_PARTS_CURED_STAGE_8'),\n",
       " (0.0055830617667070375, 'UDDER_PARTS_AFFECTED_STAGE_9'),\n",
       " (0.0011600894553530688, 'UDDER_PARTS_CURED_STAGE_9'),\n",
       " (0.0, 'UDDER_PARTS_AFFECTED_STAGE_10'),\n",
       " (0.0, 'UDDER_PARTS_CURED_STAGE_10'),\n",
       " (0.0, 'UDDER_PARTS_AFFECTED_STAGE_11'),\n",
       " (0.0, 'UDDER_PARTS_CURED_STAGE_11'),\n",
       " (4.629291081249018, 'IS_POSITIVE_RESULT'),\n",
       " (1.8494053598746856, 'COW_FULL_YEARS'),\n",
       " (14.307656544755362, 'FATHER_ID'),\n",
       " (5.182568735824896, 'MOTHER_FATHER_ID'),\n",
       " (0.5269741935359341, 'CALV_RESULT_TWO_CHILDREN'),\n",
       " (0.30648978805388355, 'CALV_RESULT_AT_LEAST_ONE_DEAD'),\n",
       " (0.46692064710757436, 'Mother_has_mastitis')]"
      ]
     },
     "execution_count": 7,
     "metadata": {},
     "output_type": "execute_result"
    }
   ],
   "source": [
    "list(zip(cb.get_feature_importance(), X.columns))"
   ]
  },
  {
   "cell_type": "code",
   "execution_count": 8,
   "id": "d1fd0e8c",
   "metadata": {},
   "outputs": [],
   "source": [
    "from catboost import cv\n"
   ]
  },
  {
   "cell_type": "code",
   "execution_count": 9,
   "id": "90a3f036",
   "metadata": {},
   "outputs": [],
   "source": [
    "params = {\"n_estimators\": 1000,\n",
    "        \"loss_function\":'RMSE',\n",
    "        \"learning_rate\": 0.4,\n",
    "        \"depth\": 3,\n",
    "        \"task_type\": 'CPU',\n",
    "        \"random_state\": 1,\n",
    "        \"verbose\": False}"
   ]
  },
  {
   "cell_type": "code",
   "execution_count": 10,
   "id": "aad3a928",
   "metadata": {},
   "outputs": [
    {
     "name": "stdout",
     "output_type": "stream",
     "text": [
      "Training on fold [0/5]\n",
      "\n",
      "bestTest = 13.30997907\n",
      "bestIteration = 995\n",
      "\n",
      "Training on fold [1/5]\n",
      "\n",
      "bestTest = 14.39507327\n",
      "bestIteration = 999\n",
      "\n",
      "Training on fold [2/5]\n",
      "\n",
      "bestTest = 14.40598198\n",
      "bestIteration = 999\n",
      "\n",
      "Training on fold [3/5]\n",
      "\n",
      "bestTest = 14.24021297\n",
      "bestIteration = 938\n",
      "\n",
      "Training on fold [4/5]\n",
      "\n",
      "bestTest = 14.48057334\n",
      "bestIteration = 793\n",
      "\n"
     ]
    },
    {
     "data": {
      "text/html": [
       "<div>\n",
       "<style scoped>\n",
       "    .dataframe tbody tr th:only-of-type {\n",
       "        vertical-align: middle;\n",
       "    }\n",
       "\n",
       "    .dataframe tbody tr th {\n",
       "        vertical-align: top;\n",
       "    }\n",
       "\n",
       "    .dataframe thead th {\n",
       "        text-align: right;\n",
       "    }\n",
       "</style>\n",
       "<table border=\"1\" class=\"dataframe\">\n",
       "  <thead>\n",
       "    <tr style=\"text-align: right;\">\n",
       "      <th></th>\n",
       "      <th>iterations</th>\n",
       "      <th>test-RMSE-mean</th>\n",
       "      <th>test-RMSE-std</th>\n",
       "      <th>train-RMSE-mean</th>\n",
       "      <th>train-RMSE-std</th>\n",
       "    </tr>\n",
       "  </thead>\n",
       "  <tbody>\n",
       "    <tr>\n",
       "      <th>0</th>\n",
       "      <td>0</td>\n",
       "      <td>26.101624</td>\n",
       "      <td>0.723550</td>\n",
       "      <td>26.032852</td>\n",
       "      <td>0.165404</td>\n",
       "    </tr>\n",
       "    <tr>\n",
       "      <th>1</th>\n",
       "      <td>1</td>\n",
       "      <td>21.334073</td>\n",
       "      <td>0.723694</td>\n",
       "      <td>21.334214</td>\n",
       "      <td>0.191701</td>\n",
       "    </tr>\n",
       "    <tr>\n",
       "      <th>2</th>\n",
       "      <td>2</td>\n",
       "      <td>19.040149</td>\n",
       "      <td>0.758310</td>\n",
       "      <td>18.997766</td>\n",
       "      <td>0.121198</td>\n",
       "    </tr>\n",
       "    <tr>\n",
       "      <th>3</th>\n",
       "      <td>3</td>\n",
       "      <td>17.922196</td>\n",
       "      <td>0.716815</td>\n",
       "      <td>17.874395</td>\n",
       "      <td>0.119086</td>\n",
       "    </tr>\n",
       "    <tr>\n",
       "      <th>4</th>\n",
       "      <td>4</td>\n",
       "      <td>17.429234</td>\n",
       "      <td>0.718887</td>\n",
       "      <td>17.348154</td>\n",
       "      <td>0.133250</td>\n",
       "    </tr>\n",
       "    <tr>\n",
       "      <th>...</th>\n",
       "      <td>...</td>\n",
       "      <td>...</td>\n",
       "      <td>...</td>\n",
       "      <td>...</td>\n",
       "      <td>...</td>\n",
       "    </tr>\n",
       "    <tr>\n",
       "      <th>995</th>\n",
       "      <td>995</td>\n",
       "      <td>14.188322</td>\n",
       "      <td>0.494156</td>\n",
       "      <td>9.514728</td>\n",
       "      <td>0.150518</td>\n",
       "    </tr>\n",
       "    <tr>\n",
       "      <th>996</th>\n",
       "      <td>996</td>\n",
       "      <td>14.188728</td>\n",
       "      <td>0.492481</td>\n",
       "      <td>9.512285</td>\n",
       "      <td>0.150323</td>\n",
       "    </tr>\n",
       "    <tr>\n",
       "      <th>997</th>\n",
       "      <td>997</td>\n",
       "      <td>14.188530</td>\n",
       "      <td>0.492302</td>\n",
       "      <td>9.510016</td>\n",
       "      <td>0.152261</td>\n",
       "    </tr>\n",
       "    <tr>\n",
       "      <th>998</th>\n",
       "      <td>998</td>\n",
       "      <td>14.185953</td>\n",
       "      <td>0.490909</td>\n",
       "      <td>9.507920</td>\n",
       "      <td>0.152608</td>\n",
       "    </tr>\n",
       "    <tr>\n",
       "      <th>999</th>\n",
       "      <td>999</td>\n",
       "      <td>14.185293</td>\n",
       "      <td>0.488870</td>\n",
       "      <td>9.504991</td>\n",
       "      <td>0.155385</td>\n",
       "    </tr>\n",
       "  </tbody>\n",
       "</table>\n",
       "<p>1000 rows × 5 columns</p>\n",
       "</div>"
      ],
      "text/plain": [
       "     iterations  test-RMSE-mean  test-RMSE-std  train-RMSE-mean  \\\n",
       "0             0       26.101624       0.723550        26.032852   \n",
       "1             1       21.334073       0.723694        21.334214   \n",
       "2             2       19.040149       0.758310        18.997766   \n",
       "3             3       17.922196       0.716815        17.874395   \n",
       "4             4       17.429234       0.718887        17.348154   \n",
       "..          ...             ...            ...              ...   \n",
       "995         995       14.188322       0.494156         9.514728   \n",
       "996         996       14.188728       0.492481         9.512285   \n",
       "997         997       14.188530       0.492302         9.510016   \n",
       "998         998       14.185953       0.490909         9.507920   \n",
       "999         999       14.185293       0.488870         9.504991   \n",
       "\n",
       "     train-RMSE-std  \n",
       "0          0.165404  \n",
       "1          0.191701  \n",
       "2          0.121198  \n",
       "3          0.119086  \n",
       "4          0.133250  \n",
       "..              ...  \n",
       "995        0.150518  \n",
       "996        0.150323  \n",
       "997        0.152261  \n",
       "998        0.152608  \n",
       "999        0.155385  \n",
       "\n",
       "[1000 rows x 5 columns]"
      ]
     },
     "execution_count": 10,
     "metadata": {},
     "output_type": "execute_result"
    }
   ],
   "source": [
    "cv(pool_all, params, fold_count=5)"
   ]
  },
  {
   "cell_type": "code",
   "execution_count": 45,
   "id": "5d1b4c22",
   "metadata": {},
   "outputs": [
    {
     "data": {
      "text/plain": [
       "{19.656889166361704: 1,\n",
       " 30.081643406349556: 2,\n",
       " 20.568979899292955: 3,\n",
       " 15.938347369225093: 4,\n",
       " 20.2086474428189: 5,\n",
       " 18.111311420919304: 6,\n",
       " 37.00902253487548: 7,\n",
       " 40.05090053574107: 8}"
      ]
     },
     "execution_count": 45,
     "metadata": {},
     "output_type": "execute_result"
    }
   ],
   "source": [
    "data = pd.DataFrame(columns = X.columns)\n",
    "    \n",
    "\n",
    "for i in range(1, 9):\n",
    "    X['PROTOCOL_STAGE_1'] = i\n",
    "    data = pd.concat([data, X[:1]])\n",
    "    dict(zip(cb.predict(data), list(range(1, 9))))\n",
    "\n",
    "dict(zip(cb.predict(data), list(range(1, 9))))"
   ]
  }
 ],
 "metadata": {
  "kernelspec": {
   "display_name": "Python 3 (ipykernel)",
   "language": "python",
   "name": "python3"
  },
  "language_info": {
   "codemirror_mode": {
    "name": "ipython",
    "version": 3
   },
   "file_extension": ".py",
   "mimetype": "text/x-python",
   "name": "python",
   "nbconvert_exporter": "python",
   "pygments_lexer": "ipython3",
   "version": "3.10.3"
  }
 },
 "nbformat": 4,
 "nbformat_minor": 5
}
